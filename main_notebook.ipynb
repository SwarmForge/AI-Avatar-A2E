{
 "cells": [
  {
   "cell_type": "code",
   "execution_count": 9,
   "id": "23b20892",
   "metadata": {},
   "outputs": [],
   "source": [
    "import os\n",
    "import dotenv\n",
    "import requests"
   ]
  },
  {
   "cell_type": "code",
   "execution_count": 20,
   "id": "d7b2f5aa",
   "metadata": {},
   "outputs": [],
   "source": [
    "from dotenv import load_dotenv\n",
    "\n",
    "load_dotenv()\n",
    "\n",
    "A2E_API_TOKEN = os.getenv(\"A2E_API_TOKEN\")"
   ]
  },
  {
   "cell_type": "markdown",
   "id": "f9ad9faf",
   "metadata": {},
   "source": [
    "# Text-To-Image"
   ]
  },
  {
   "cell_type": "code",
   "execution_count": 14,
   "id": "63c26502",
   "metadata": {},
   "outputs": [],
   "source": [
    "avatar_description = \"\"\"\n",
    "A professional male avatar representing someone from the Emirates with a confident yet \n",
    "approachable presence. He has slightly short, neatly styled dark hair and warm hazel-brown \n",
    "eyes. His glasses are a modern rectangular frame, giving him a sharp and intellectual look. \n",
    "He wears a light stubble instead of a fuller beard, keeping the style clean. His expression \n",
    "conveys calmness, kindness, and reliability. He is dressed in a smart button-up shirt with rolled sleeves, \n",
    "suggesting professionalism with a touch of friendliness. His build is athletic with broad shoulders, \n",
    "making him appear strong, dependable, and knowledgeable.\"\"\""
   ]
  },
  {
   "cell_type": "code",
   "execution_count": null,
   "id": "48dec87b",
   "metadata": {},
   "outputs": [
    {
     "name": "stdout",
     "output_type": "stream",
     "text": [
      "{\"code\":0,\"data\":{\"_id\":\"68b2ede4bab4c3003a19f5e9\",\"name\":\"Test Name\",\"prompt\":\"\\nA professional male avatar representing someone from the Emirates with a confident yet \\napproachable presence. He has slightly short, neatly styled dark hair and warm hazel-brown \\neyes. His glasses are a modern rectangular frame, giving him a sharp and intellectual look. \\nHe wears a light stubble instead of a fuller beard, keeping the style clean. His expression \\nconveys calmness, kindness, and reliability. He is dressed in a smart button-up shirt with rolled sleeves, \\nsuggesting professionalism with a touch of friendliness. His build is athletic with broad shoulders, \\nmaking him appear strong, dependable, and knowledgeable.\",\"image_urls\":[\"https://30days-tos.avatar2everyone.com/adam2eve/stable/users/68b2daf50c05b8003b960b6d/faf8830a-2c5d-4590-86c5-1300e4c76b4e.jpeg\"],\"current_status\":\"completed\",\"coins\":10,\"createdAt\":\"2025-08-30T12:26:12.841Z\",\"failed_message\":\"\",\"failed_code\":\"\",\"width\":1024,\"height\":768,\"req_key\":\"high_aes_general_v21_L\",\"hasVideoClone\":false},\"trace_id\":\"43c7288c-ddee-438f-99bd-4397063674d7\"}\n"
     ]
    }
   ],
   "source": [
    "import http.client\n",
    "import json\n",
    "\n",
    "conn = http.client.HTTPSConnection(\"video.a2e.ai\")\n",
    "payload = json.dumps({\n",
    "   \"name\": \"Test Name\",\n",
    "   \"prompt\": avatar_description,\n",
    "   \"req_key\": \"high_aes_general_v21_L\",\n",
    "   \"width\": 1024,\n",
    "   \"height\": 768\n",
    "})\n",
    "headers = {\n",
    "    \"Authorization\": f\"Bearer {A2E_API_TOKEN}\",\n",
    "    \"Content-Type\": \"application/json\"\n",
    "}\n",
    "conn.request(\"POST\", \"/api/v1/userText2image/start\", payload, headers)\n",
    "res = conn.getresponse()\n",
    "data = res.read()\n",
    "print(data.decode(\"utf-8\"))"
   ]
  },
  {
   "cell_type": "code",
   "execution_count": null,
   "id": "bf781424",
   "metadata": {},
   "outputs": [],
   "source": [
    "image_url = data['data']['image_urls'][0]"
   ]
  },
  {
   "cell_type": "code",
   "execution_count": 27,
   "id": "652ba56e",
   "metadata": {},
   "outputs": [
    {
     "name": "stdout",
     "output_type": "stream",
     "text": [
      "Saved -> D:\\NETIX\\SwarmForge\\Ai Avatar\\avatar.jpeg\n"
     ]
    }
   ],
   "source": [
    "import json\n",
    "import requests\n",
    "from pathlib import Path\n",
    "\n",
    "# 1) Parse the JSON bytes you showed earlier\n",
    "raw = b'{\"code\":0,\"data\":{\"_id\":\"68b2ede4bab4c3003a19f5e9\",\"name\":\"Test Name\",\"prompt\":\"\\\\nA professional male avatar...\",\"image_urls\":[\"https://30days-tos.avatar2everyone.com/adam2eve/stable/users/68b2daf50c05b8003b960b6d/faf8830a-2c5d-4590-86c5-1300e4c76b4e.jpeg\"],\"current_status\":\"completed\"},\"trace_id\":\"...\"}'\n",
    "data = json.loads(raw.decode(\"utf-8\"))\n",
    "\n",
    "# 2) Extract a plain string URL (not a list)\n",
    "urls = data[\"data\"][\"image_urls\"]\n",
    "url = urls[0] if isinstance(urls, list) else urls   # ensure it's a str\n",
    "\n",
    "# 3) Download with requests (streaming, timeout, simple headers)\n",
    "resp = requests.get(url, stream=True, timeout=30, headers={\"User-Agent\": \"python-requests\"})\n",
    "resp.raise_for_status()  # will raise if not 2xx\n",
    "\n",
    "# 4) Pick a filename (use extension from URL or Content-Type)\n",
    "ext = Path(url).suffix or \".jpg\"\n",
    "out_path = Path(f\"avatar{ext}\")\n",
    "\n",
    "with open(out_path, \"wb\") as f:\n",
    "    for chunk in resp.iter_content(chunk_size=8192):\n",
    "        if chunk:\n",
    "            f.write(chunk)\n",
    "\n",
    "print(f\"Saved -> {out_path.resolve()}\")\n"
   ]
  },
  {
   "cell_type": "markdown",
   "id": "259298db",
   "metadata": {},
   "source": [
    "---"
   ]
  },
  {
   "cell_type": "markdown",
   "id": "a69933fd",
   "metadata": {},
   "source": [
    "# Create Avatar From Image"
   ]
  },
  {
   "cell_type": "code",
   "execution_count": null,
   "id": "0579bbe3",
   "metadata": {},
   "outputs": [],
   "source": [
    "# image_url = \"https://30days-tos.avatar2everyone.com/adam2eve/stable/users/68b2daf50c05b8003b960b6d/faf8830a-2c5d-4590-86c5-1300e4c76b4e.jpeg\""
   ]
  },
  {
   "cell_type": "code",
   "execution_count": null,
   "id": "40dee42e",
   "metadata": {},
   "outputs": [],
   "source": [
    "import os\n",
    "import requests\n",
    "\n",
    "def create_avatar_from_image(name: str, gender: str, image_url: str,\n",
    "                             bg_color: str | None = None,\n",
    "                             bg_image_url: str | None = None,\n",
    "                             model_version: str | None = None,\n",
    "                             prompt: str | None = None,\n",
    "                             negative_prompt: str | None = None,\n",
    "                             skip_preview: bool | None = None):\n",
    "    \"\"\"\n",
    "    Creates a custom avatar using an IMAGE (costs credits, per A2E docs).\n",
    "    Either image_url or video_url must be provided; here we use image_url.\n",
    "    \"\"\"\n",
    "    if \" \" in image_url:\n",
    "        raise ValueError(\"image_url must not contain spaces; URL-encode them as %20 if needed.\")\n",
    "\n",
    "    url = f\"{A2E_BASE}/api/v1/userVideoTwin/startTraining\"\n",
    "\n",
    "    headers = {\n",
    "        \"Authorization\": f\"Bearer {A2E_API_TOKEN or 'REPLACE_ME'}\",\n",
    "        \"x-lang\": \"en-US\",                 # UI language of the platform, not the avatar voice\n",
    "        \"Content-Type\": \"application/json\"\n",
    "    }\n",
    "\n",
    "    body = {\n",
    "        \"name\": name,\n",
    "        \"gender\": gender,                  # \"female\" or \"male\"\n",
    "        \"image_url\": image_url\n",
    "        # do NOT include video_url when using image_url\n",
    "    }\n",
    "\n",
    "    # Optional fields (per docs)\n",
    "    if bg_color:        # API field name is spelled 'video_backgroud_color' in docs\n",
    "        body[\"video_backgroud_color\"] = bg_color  # e.g., \"rgb(61,165,82)\"\n",
    "    if bg_image_url:\n",
    "        body[\"video_backgroud_image\"] = bg_image_url\n",
    "    if model_version in {\"V2.1\", \"V2.0\"}:\n",
    "        body[\"model_version\"] = model_version\n",
    "    if prompt:\n",
    "        body[\"prompt\"] = prompt\n",
    "    if negative_prompt:\n",
    "        body[\"negative_prompt\"] = negative_prompt\n",
    "    if skip_preview is not None:\n",
    "        body[\"skipPreview\"] = bool(skip_preview)\n",
    "\n",
    "    resp = requests.post(url, json=body, headers=headers, timeout=60)\n",
    "    resp.raise_for_status()\n",
    "    data = resp.json()\n",
    "\n",
    "    # A successful response (code==0) includes the record under data; grab a few useful fields:\n",
    "    if data.get(\"code\") == 0 and isinstance(data.get(\"data\"), dict):\n",
    "        d = data[\"data\"]\n",
    "        print(\"Avatar training created.\")\n",
    "        print(f\"  id (user_video_twin_id): {d.get('_id')}\")\n",
    "        print(f\"  name: {d.get('name')}\")\n",
    "        print(f\"  gender: {d.get('gender')}\")\n",
    "        print(f\"  current_status: {d.get('current_status')}\")\n",
    "        print(f\"  image_url: {d.get('image_url')}\")\n",
    "        print(f\"  video_backgroud_color: {d.get('video_backgroud_color')}\")\n",
    "        # d.get('task_id') may be empty initially; use the avatar list/status endpoints to track progress\n",
    "    else:\n",
    "        print(\"Unexpected response:\", data)\n",
    "\n",
    "    return data\n"
   ]
  },
  {
   "cell_type": "code",
   "execution_count": 54,
   "id": "cb5bb4ed",
   "metadata": {},
   "outputs": [
    {
     "data": {
      "text/plain": [
       "'https://30days-tos.avatar2everyone.com/adam2eve/stable/users/68b2daf50c05b8003b960b6d/faf8830a-2c5d-4590-86c5-1300e4c76b4e.jpeg'"
      ]
     },
     "execution_count": 54,
     "metadata": {},
     "output_type": "execute_result"
    }
   ],
   "source": [
    "image_url"
   ]
  },
  {
   "cell_type": "code",
   "execution_count": 55,
   "id": "e9dd8aec",
   "metadata": {},
   "outputs": [
    {
     "name": "stdout",
     "output_type": "stream",
     "text": [
      "Avatar training created.\n",
      "  id (user_video_twin_id): 68b30362bf45570042defd0d\n",
      "  name: Second Emirate Guy\n",
      "  gender: male\n",
      "  current_status: initialized\n",
      "  image_url: https://30days-tos.avatar2everyone.com/adam2eve/stable/users/68b2daf50c05b8003b960b6d/faf8830a-2c5d-4590-86c5-1300e4c76b4e.jpeg\n",
      "  video_backgroud_color: \n"
     ]
    }
   ],
   "source": [
    "# Example usage — replace with your values:\n",
    "result = create_avatar_from_image(\n",
    "    name=\"Second Emirate Guy\",\n",
    "    gender=\"male\",\n",
    "    image_url=image_url\n",
    ")"
   ]
  },
  {
   "cell_type": "code",
   "execution_count": 57,
   "id": "407a3d16",
   "metadata": {},
   "outputs": [
    {
     "data": {
      "text/plain": [
       "'68b30362bf45570042defd0d'"
      ]
     },
     "execution_count": 57,
     "metadata": {},
     "output_type": "execute_result"
    }
   ],
   "source": [
    "AVATAR_ID = result['data']['_id']\n",
    "AVATAR_ID"
   ]
  },
  {
   "cell_type": "code",
   "execution_count": null,
   "id": "fe690fac",
   "metadata": {},
   "outputs": [],
   "source": [
    "import http.client\n",
    "import json\n",
    "\n",
    "def get_user_video_twin(a2e_token: str, avatar_id: str) -> dict:\n",
    "    \"\"\"\n",
    "    Fetch user video twin data from A2E API.\n",
    "\n",
    "    Args:\n",
    "        a2e_token (str): Authorization token for the API.\n",
    "        avatar_id (str): ID of the avatar to fetch.\n",
    "\n",
    "    Returns:\n",
    "        dict: Parsed JSON response from the API.\n",
    "    \"\"\"\n",
    "    conn = http.client.HTTPSConnection(\"video.a2e.ai\")\n",
    "    headers = {\n",
    "        \"Authorization\": f\"Bearer {A2E_API_TOKEN}\",\n",
    "        \"x-lang\": \"en-US\"\n",
    "    }\n",
    "    \n",
    "    conn.request(\"GET\", f\"/api/v1/userVideoTwin/{avatar_id}\", body=\"\", headers=headers)\n",
    "    res = conn.getresponse()\n",
    "    data = res.read()\n",
    "    \n",
    "    conn.close()\n",
    "    return json.loads(data.decode(\"utf-8\"))\n"
   ]
  },
  {
   "cell_type": "code",
   "execution_count": 1,
   "id": "80baec62",
   "metadata": {},
   "outputs": [],
   "source": [
    "def wait_until_ready(avatar_id: str, timeout_s: int = 1800, poll_s: int = 20):\n",
    "    \"\"\"\n",
    "    Polls until current_status is a terminal 'ready/success' or fails/times out.\n",
    "    \"\"\"\n",
    "    start = time.time()\n",
    "\n",
    "    while True:\n",
    "        item = get_user_video_twin(A2E_API_TOKEN, AVATAR_ID)\n",
    "        status = item['data']['current_status']\n",
    "        print(\"status:\", status)\n",
    "        if status in {\"ready\", \"trained\", \"succeeded\", \"completed\"}:\n",
    "            return item\n",
    "        if status in {\"failed\", \"error\"}:\n",
    "            raise RuntimeError(f\"Training failed: {item}\")\n",
    "        if time.time() - start > timeout_s:\n",
    "            raise TimeoutError(f\"Timed out waiting for avatar {avatar_id} to be ready\")\n",
    "        time.sleep(poll_s)"
   ]
  },
  {
   "cell_type": "code",
   "execution_count": null,
   "id": "e3c586fd",
   "metadata": {},
   "outputs": [],
   "source": [
    "import time\n",
    "\n",
    "import time\n",
    "\n",
    "def wait_until_ready(avatar_id: str, timeout_s: int = 600, poll_s: int = 20):\n",
    "    start = time.time()\n",
    "\n",
    "    while True:\n",
    "        # Make sure to pass the avatar_id, not a global AVATAR_ID\n",
    "        item = get_user_video_twin(A2E_API_TOKEN, avatar_id)\n",
    "        status = item['data']['current_status']\n",
    "        print(f\"status: {status}\")\n",
    "\n",
    "        if status in {\"ready\", \"trained\", \"succeeded\", \"completed\"}:\n",
    "            return item\n",
    "\n",
    "        if status in {\"failed\", \"error\"}:\n",
    "            raise RuntimeError(f\"Training failed: {item}\")\n",
    "\n",
    "        if time.time() - start > timeout_s:\n",
    "            raise TimeoutError(f\"Timed out waiting for avatar {avatar_id} to be ready\")\n",
    "\n",
    "        time.sleep(poll_s)\n"
   ]
  },
  {
   "cell_type": "code",
   "execution_count": 71,
   "id": "c39985a4",
   "metadata": {},
   "outputs": [
    {
     "name": "stdout",
     "output_type": "stream",
     "text": [
      "status: completed\n"
     ]
    }
   ],
   "source": [
    "avatar_info = wait_until_ready(AVATAR_ID)"
   ]
  },
  {
   "cell_type": "code",
   "execution_count": 72,
   "id": "e29b6245",
   "metadata": {},
   "outputs": [
    {
     "data": {
      "text/plain": [
       "{'code': 0,\n",
       " 'data': {'_id': '68b30362bf45570042defd0d',\n",
       "  'name': 'Second Emirate Guy',\n",
       "  'gender': 'male',\n",
       "  'image_url': 'https://30days-tos.avatar2everyone.com/adam2eve/stable/users/68b2daf50c05b8003b960b6d/faf8830a-2c5d-4590-86c5-1300e4c76b4e.jpeg',\n",
       "  'video_url': '',\n",
       "  'current_status': 'completed',\n",
       "  'failed_code': '0',\n",
       "  'failed_message': None,\n",
       "  'wl_model': 'live_protrait',\n",
       "  'close_mouth_path': '',\n",
       "  'task_id': '',\n",
       "  'task_status': '',\n",
       "  'task_result': {},\n",
       "  'video_backgroud_image': '',\n",
       "  'video_backgroud_color': '',\n",
       "  'image_result_url': 'https://prod-tos.avatar2everyone.com/adam2eve/stable/user/68b2daf50c05b8003b960b6d/userVideoTwin/68b30362bf45570042defd0d/f29d4989-3b05-4470-8f91-53989d8839bb.mp4',\n",
       "  'image_error_code': '',\n",
       "  'preview_result_url': 'https://prod-tos.avatar2everyone.com/adam2eve/stable/user/68b2daf50c05b8003b960b6d/userVideoTwin/68b30362bf45570042defd0d/preview_1756562491564.mp4',\n",
       "  'version': 1,\n",
       "  'isSilent': True,\n",
       "  'hasVoiceClone': False,\n",
       "  'hasVideoClone': False,\n",
       "  'skipPreview': False,\n",
       "  'isToPublicPool': False,\n",
       "  'image_version': 2,\n",
       "  'hasEyecontact': False,\n",
       "  'eyecontact_result_url': '',\n",
       "  'user_id': '68b2daf50c05b8003b960b6d',\n",
       "  'coins': 30,\n",
       "  'model_version': 'V2.1',\n",
       "  'anchor_id': '68b3043e246274004268a84e'},\n",
       " 'trace_id': 'a4e8e8c2-9e02-4fbe-835e-bbe6f0f99073'}"
      ]
     },
     "execution_count": 72,
     "metadata": {},
     "output_type": "execute_result"
    }
   ],
   "source": [
    "avatar_info"
   ]
  },
  {
   "cell_type": "markdown",
   "id": "6305f851",
   "metadata": {},
   "source": [
    "### Continute lip-syncing training"
   ]
  },
  {
   "cell_type": "code",
   "execution_count": 32,
   "id": "53a5fea7",
   "metadata": {},
   "outputs": [],
   "source": [
    "avatar_id = '68b30362bf45570042defd0d'"
   ]
  },
  {
   "cell_type": "code",
   "execution_count": 7,
   "id": "6ef999e4",
   "metadata": {},
   "outputs": [
    {
     "name": "stdout",
     "output_type": "stream",
     "text": [
      "{\"code\":1000,\"msg\":\"Image does not support continue training\",\"trace_id\":\"a0bd1a30-e609-44c1-88c8-6c5090cb40cf\"}\n"
     ]
    }
   ],
   "source": [
    "import http.client\n",
    "import json\n",
    "\n",
    "conn = http.client.HTTPSConnection(\"video.a2e.ai\")\n",
    "payload = json.dumps({\n",
    "   \"_id\": avatar_id\n",
    "})\n",
    "headers = {\n",
    "    \"Authorization\": f\"Bearer {A2E_API_TOKEN}\",\n",
    "    \"Content-Type\": \"application/json\"\n",
    "}\n",
    "conn.request(\"POST\", \"/api/v1/userVideoTwin/continueTranining\", payload, headers)\n",
    "res = conn.getresponse()\n",
    "data = res.read()\n",
    "print(data.decode(\"utf-8\"))"
   ]
  },
  {
   "cell_type": "markdown",
   "id": "4f3f6fdc",
   "metadata": {},
   "source": [
    "---"
   ]
  },
  {
   "cell_type": "markdown",
   "id": "bb824e5c",
   "metadata": {},
   "source": [
    "# Creating Video With The Avatar"
   ]
  },
  {
   "cell_type": "markdown",
   "id": "634e2194",
   "metadata": {},
   "source": [
    "### Creating Text-To-Speech"
   ]
  },
  {
   "cell_type": "code",
   "execution_count": null,
   "id": "cb78eda3",
   "metadata": {},
   "outputs": [
    {
     "name": "stdout",
     "output_type": "stream",
     "text": [
      "Status: 200 OK\n",
      "{'code': 0,\n",
      " 'data': [{'children': [{'label': 'Aria - Sexy Female Villain Voice',\n",
      "                         'ttsRate': 3,\n",
      "                         'value': '66ca504f2732c24634224075'},\n",
      "                        {'label': 'ASMR Dr Lovejoy',\n",
      "                         'ttsRate': 3,\n",
      "                         'value': '66dc6764547f617d734c4657'},\n",
      "                        {'label': 'august',\n",
      "                         'ttsRate': 3,\n",
      "                         'value': '66c67a178d721777dc7150c6'},\n",
      "                        {'label': 'Ava Multilingual',\n",
      "                         'ttsRate': 1,\n",
      "                         'value': '66d3fa4ab76478b1272f2249'},\n",
      "                        {'label': 'Emma Multilingual',\n",
      "                         'ttsRate': 1,\n",
      "                         'value': '66d3fb89357648b14c4f4f26'},\n",
      "                        {'label': 'Jessica',\n",
      "                         'ttsRate': 3,\n",
      "                         'value': '669b7015ba04042f4090b288'},\n",
      "                        {'label': 'Laura',\n",
      "                         'ttsRate': 3,\n",
      "                         'value': '669b702ebef8c82f061526d6'},\n",
      "                        {'label': 'Natasha - Sensual Hypnosis',\n",
      "                         'ttsRate': 3,\n",
      "                         'value': '66ca501423e5214651926a8d'},\n",
      "                        {'label': 'Nia African',\n",
      "                         'ttsRate': 3,\n",
      "                         'value': '66d0ee32c5c61a0958c9bb09'},\n",
      "                        {'label': 'SA Brown African',\n",
      "                         'ttsRate': 3,\n",
      "                         'value': '66d0eef3cc43f90998b3fcf0'},\n",
      "                        {'label': 'Sarah',\n",
      "                         'ttsRate': 3,\n",
      "                         'value': '6627e0b42f07d4f2a89a19fe'},\n",
      "                        {'label': 'Shannon ASMR',\n",
      "                         'ttsRate': 3,\n",
      "                         'value': '66ca4f882732c24634223f30'},\n",
      "                        {'label': 'ShanShan Chinese Accent',\n",
      "                         'ttsRate': 3,\n",
      "                         'value': '66be7826e6a02efdf250e10f'},\n",
      "                        {'label': 'Stacy Chinese Accent',\n",
      "                         'ttsRate': 3,\n",
      "                         'value': '66ca4f49eb72c346420eb159'}],\n",
      "           'label': 'female',\n",
      "           'value': 'female'},\n",
      "          {'children': [{'label': 'Andrew Multilingual',\n",
      "                         'ttsRate': 1,\n",
      "                         'value': '66d3fb1bc051cfb134c60f20'},\n",
      "                        {'label': 'Brian',\n",
      "                         'ttsRate': 3,\n",
      "                         'value': '6625ebd4613f49985c349f95'},\n",
      "                        {'label': 'Brian Multilingual',\n",
      "                         'ttsRate': 1,\n",
      "                         'value': '66d3fb2804d077b1432fcb78'},\n",
      "                        {'label': 'Callum',\n",
      "                         'ttsRate': 3,\n",
      "                         'value': '669b6fdcba04042f4090b1e1'},\n",
      "                        {'label': 'Charlie',\n",
      "                         'ttsRate': 3,\n",
      "                         'value': '669b6feaba04042f4090b20b'},\n",
      "                        {'label': 'Chris',\n",
      "                         'ttsRate': 3,\n",
      "                         'value': '6625ebdf1e815e988df80edb'},\n",
      "                        {'label': 'Damon',\n",
      "                         'ttsRate': 3,\n",
      "                         'value': '66ca4206d8cadd46463b08c1'},\n",
      "                        {'label': 'Daniel',\n",
      "                         'ttsRate': 3,\n",
      "                         'value': '6625ebca613f49985c349f8a'},\n",
      "                        {'label': 'Eric',\n",
      "                         'ttsRate': 3,\n",
      "                         'value': '669b7004e6ee782f24a6f7b4'},\n",
      "                        {'label': 'Jamal (African American)',\n",
      "                         'ttsRate': 3,\n",
      "                         'value': '66ce9191f9588b7e5840e9c0'},\n",
      "                        {'label': 'John Doe - Intimate',\n",
      "                         'ttsRate': 3,\n",
      "                         'value': '67a69e42cfbc268214805031'},\n",
      "                        {'label': 'Josh',\n",
      "                         'ttsRate': 3,\n",
      "                         'value': '66ca41be8afcd9461956bf0a'},\n",
      "                        {'label': 'Liam',\n",
      "                         'ttsRate': 3,\n",
      "                         'value': '6625ed0b75c2a29862132bdb'},\n",
      "                        {'label': 'neuris',\n",
      "                         'ttsRate': 3,\n",
      "                         'value': '66ca415aab1f1e460661b985'},\n",
      "                        {'label': 'Road Dawg African',\n",
      "                         'ttsRate': 3,\n",
      "                         'value': '66d0ef38b51364094c92c216'},\n",
      "                        {'label': 'Timmy',\n",
      "                         'ttsRate': 3,\n",
      "                         'value': '66ca44d423e5214651925645'},\n",
      "                        {'label': 'Tony',\n",
      "                         'ttsRate': 3,\n",
      "                         'value': '66ca41e80683694635789f29'},\n",
      "                        {'label': 'WF Texas NPR Storyteller',\n",
      "                         'ttsRate': 3,\n",
      "                         'value': '66ca5776068369463578c68b'},\n",
      "                        {'label': 'Will',\n",
      "                         'ttsRate': 3,\n",
      "                         'value': '669b703cf845592f0ccd31c5'}],\n",
      "           'label': 'male',\n",
      "           'value': 'male'}],\n",
      " 'trace_id': '33cd635e-d6a1-4921-8967-ad2ea34c46d6'}\n"
     ]
    }
   ],
   "source": [
    "import requests\n",
    "import pprint\n",
    "\n",
    "url = \"https://video.a2e.ai/api/v1/anchor/voice_list\"\n",
    "headers = {\n",
    "    \"Authorization\": f\"Bearer {A2E_API_TOKEN}\",\n",
    "    \"Accept\": \"application/json\",\n",
    "    \"User-Agent\": \"a2e-client/1.0\"\n",
    "}\n",
    "params = {\n",
    "    \"country\": \"en\",\n",
    "    \"region\": \"US\",\n",
    "    \"voice_map_type\": \"en-US\"\n",
    "}\n",
    "\n",
    "r = requests.get(url, headers=headers, params=params, timeout=30)\n",
    "print(\"Status:\", r.status_code, r.reason)\n",
    "if r.ok:\n",
    "    pprint.pprint(json.loads(r.text))"
   ]
  },
  {
   "cell_type": "code",
   "execution_count": null,
   "id": "7cbf2a54",
   "metadata": {},
   "outputs": [],
   "source": [
    "import requests\n",
    "import json\n",
    "\n",
    "\n",
    "def generate_tts(msg, voice_id, country=\"en\", region=\"US\", speech_rate=1.0):\n",
    "    \"\"\"Generate TTS Audio (Text-to-Speech) → returns audioSrc URL.\"\"\"\n",
    "\n",
    "    url = \"https://video.a2e.ai/api/v1/video/send_tts\"\n",
    "\n",
    "    body = {\n",
    "        \"msg\": msg,\n",
    "        \"tts_id\": voice_id,\n",
    "        \"speechRate\": speech_rate,\n",
    "        \"country\": country,\n",
    "        \"region\": region,\n",
    "    }\n",
    "\n",
    "    headers = {\n",
    "        \"Authorization\": f\"Bearer {A2E_API_TOKEN}\",\n",
    "        \"Content-Type\": \"application/json\",\n",
    "        \"Accept\": \"application/json\",\n",
    "        \"User-Agent\": \"a2e-client/1.0\",\n",
    "    }\n",
    "\n",
    "    r = requests.post(url, headers=headers, json=body, timeout=60)\n",
    "    r.raise_for_status()\n",
    "\n",
    "    try:\n",
    "        j = r.json()\n",
    "    except ValueError:\n",
    "        # response is not JSON\n",
    "        return r.text\n",
    "\n",
    "    return j.data\n"
   ]
  },
  {
   "cell_type": "code",
   "execution_count": null,
   "id": "850a70e8",
   "metadata": {},
   "outputs": [],
   "source": [
    "voice_id = \"6625ebd4613f49985c349f95\""
   ]
  },
  {
   "cell_type": "code",
   "execution_count": null,
   "id": "41f6d82b",
   "metadata": {},
   "outputs": [],
   "source": [
    "script = \"Hello, I'm your content creator assistant. I will help you through the process of creating and publishing your content.\""
   ]
  },
  {
   "cell_type": "code",
   "execution_count": null,
   "id": "bde34b3f",
   "metadata": {},
   "outputs": [
    {
     "ename": "AttributeError",
     "evalue": "'str' object has no attribute 'get'",
     "output_type": "error",
     "traceback": [
      "\u001b[1;31m---------------------------------------------------------------------------\u001b[0m\n",
      "\u001b[1;31mAttributeError\u001b[0m                            Traceback (most recent call last)\n",
      "Cell \u001b[1;32mIn[29], line 1\u001b[0m\n",
      "\u001b[1;32m----> 1\u001b[0m audio_src \u001b[38;5;241m=\u001b[39m \u001b[43mgenerate_tts\u001b[49m\u001b[43m(\u001b[49m\u001b[43mscript\u001b[49m\u001b[43m,\u001b[49m\u001b[43m \u001b[49m\u001b[43mvoice_id\u001b[49m\u001b[43m)\u001b[49m\n",
      "\n",
      "Cell \u001b[1;32mIn[28], line 36\u001b[0m, in \u001b[0;36mgenerate_tts\u001b[1;34m(msg, voice_id, country, region, speech_rate)\u001b[0m\n",
      "\u001b[0;32m     34\u001b[0m \u001b[38;5;66;03m# handle both structures\u001b[39;00m\n",
      "\u001b[0;32m     35\u001b[0m \u001b[38;5;28;01mif\u001b[39;00m \u001b[38;5;28misinstance\u001b[39m(j, \u001b[38;5;28mdict\u001b[39m):\n",
      "\u001b[1;32m---> 36\u001b[0m     \u001b[38;5;28;01mreturn\u001b[39;00m \u001b[43m(\u001b[49m\u001b[43mj\u001b[49m\u001b[38;5;241;43m.\u001b[39;49m\u001b[43mget\u001b[49m\u001b[43m(\u001b[49m\u001b[38;5;124;43m\"\u001b[39;49m\u001b[38;5;124;43mdata\u001b[39;49m\u001b[38;5;124;43m\"\u001b[39;49m\u001b[43m)\u001b[49m\u001b[43m \u001b[49m\u001b[38;5;129;43;01mor\u001b[39;49;00m\u001b[43m \u001b[49m\u001b[43m{\u001b[49m\u001b[43m}\u001b[49m\u001b[43m)\u001b[49m\u001b[38;5;241;43m.\u001b[39;49m\u001b[43mget\u001b[49m(\u001b[38;5;124m\"\u001b[39m\u001b[38;5;124maudioSrc\u001b[39m\u001b[38;5;124m\"\u001b[39m) \u001b[38;5;129;01mor\u001b[39;00m j\u001b[38;5;241m.\u001b[39mget(\u001b[38;5;124m\"\u001b[39m\u001b[38;5;124maudioSrc\u001b[39m\u001b[38;5;124m\"\u001b[39m)\n",
      "\u001b[0;32m     38\u001b[0m \u001b[38;5;28;01mreturn\u001b[39;00m j\n",
      "\n",
      "\u001b[1;31mAttributeError\u001b[0m: 'str' object has no attribute 'get'"
     ]
    }
   ],
   "source": [
    "# audio_src = generate_tts(script, voice_id)"
   ]
  },
  {
   "cell_type": "code",
   "execution_count": null,
   "id": "9386d6c7",
   "metadata": {},
   "outputs": [],
   "source": [
    "audio_src = 'https://1day-tos.a2e.com.cn/tts3party_cache/stable/el/Brian/speed/a9a730f81d8281644d6a183a949fa7a0.wav'"
   ]
  },
  {
   "cell_type": "markdown",
   "id": "50f2df94",
   "metadata": {},
   "source": [
    "### Creating Video With Voice and Avatar"
   ]
  },
  {
   "cell_type": "code",
   "execution_count": 17,
   "id": "50aca861",
   "metadata": {},
   "outputs": [],
   "source": [
    "import http.client\n",
    "import json\n",
    "\n",
    "# Step 1: Get the list of available anchors\n",
    "conn = http.client.HTTPSConnection(\"video.a2e.ai\")\n",
    "headers = {\n",
    "    \"Authorization\": f\"Bearer {A2E_API_TOKEN}\",\n",
    "    \"Content-Type\": \"application/json\"\n",
    "}\n",
    "conn.request(\"GET\", \"/api/v1/anchor/character_list\", headers=headers)\n",
    "res = conn.getresponse()\n",
    "data = res.read()\n",
    "anchors = json.loads(data.decode(\"utf-8\"))"
   ]
  },
  {
   "cell_type": "code",
   "execution_count": 34,
   "id": "6182246c",
   "metadata": {},
   "outputs": [],
   "source": [
    "avatar_id = '68b30362bf45570042defd0d'"
   ]
  },
  {
   "cell_type": "code",
   "execution_count": 35,
   "id": "3673d0ec",
   "metadata": {},
   "outputs": [
    {
     "name": "stdout",
     "output_type": "stream",
     "text": [
      "{\"code\":0,\"data\":[{\"name\":\"Second Emirate Guy\",\"type\":\"custom\",\"_id\":\"68b3043e246274004268a84e\",\"createdAt\":\"2025-08-30T14:01:34.513Z\",\"width\":0,\"height\":0,\"isExclusive\":true,\"wl_model\":\"live_protrait\",\"user_photo_twin_id\":\"\",\"user_photo_twin_image_id\":\"\",\"user_video_twin_id\":\"68b30362bf45570042defd0d\",\"user_video_twin_training_model\":\"fast\",\"background_img\":\"\",\"background_color\":\"\",\"base_video\":\"https://prod-tos.avatar2everyone.com/adam2eve/stable/user/68b2daf50c05b8003b960b6d/userVideoTwin/68b30362bf45570042defd0d/f29d4989-3b05-4470-8f91-53989d8839bb.mp4\",\"people_img\":\"\",\"lang\":[],\"video_cover\":\"https://prod-tos.avatar2everyone.com/adam2eve/stable/custom_avatar_cover/cdfd5403-e361-47c1-b1f9-4bf2093e5ba7.jpeg\"}],\"trace_id\":\"e5182b11-5a65-46a2-970b-b91ec25ad1f2\"}\n"
     ]
    }
   ],
   "source": [
    "import http.client\n",
    "\n",
    "conn = http.client.HTTPSConnection(\"video.a2e.ai\")\n",
    "payload = ''\n",
    "headers = {\n",
    "    \"Authorization\": f\"Bearer {A2E_API_TOKEN}\",\n",
    "    \"Content-Type\": \"application/json\"\n",
    "}\n",
    "conn.request(\"GET\", f\"/api/v1/anchor/character_list?user_video_twin_id={avatar_id}&type=custom\", payload, headers)\n",
    "res = conn.getresponse()\n",
    "data = res.read()\n",
    "print(data.decode(\"utf-8\"))"
   ]
  },
  {
   "cell_type": "code",
   "execution_count": 43,
   "id": "b788d7d4",
   "metadata": {},
   "outputs": [
    {
     "data": {
      "text/plain": [
       "'68b3043e246274004268a84e'"
      ]
     },
     "execution_count": 43,
     "metadata": {},
     "output_type": "execute_result"
    }
   ],
   "source": [
    "anchor_id = json.loads(data.decode(\"utf-8\"))['data'][0][\"_id\"]\n",
    "anchor_id"
   ]
  },
  {
   "cell_type": "code",
   "execution_count": 44,
   "id": "90c1a2e2",
   "metadata": {},
   "outputs": [
    {
     "name": "stdout",
     "output_type": "stream",
     "text": [
      "{\"code\":0,\"data\":{\"title\":\"Second Emirate Guy Greeting Video\",\"msg\":\"\",\"algo_result\":\"\",\"result\":\"\",\"retry\":0,\"process\":0,\"isDel\":false,\"deletedByAccount\":false,\"isSkipRs\":true,\"status\":\"init\",\"error\":\"\",\"error_code\":\"\",\"anchor_type\":\"1\",\"resolution\":\"1080\",\"voice_type\":\"0\",\"audioSrc\":\"https://1day-tos.a2e.com.cn/tts3party_cache/stable/el/Brian/speed/a9a730f81d8281644d6a183a949fa7a0.wav\",\"custom_voice\":\"\",\"priority\":3,\"end_success_date\":null,\"restart_date\":null,\"audioLen\":7,\"web_people_max_width\":null,\"web_people_max_height\":null,\"web_people_width\":608,\"web_people_height\":1080,\"web_people_x\":657,\"web_people_y\":0,\"web_bg_width\":1920,\"web_bg_height\":1080,\"color\":\"\",\"result_cover\":\"\",\"wl_model\":\"\",\"anchor_background_img\":\"\",\"anchor_background_color\":\"\",\"isSkipGp\":true,\"isAllowReverse\":true,\"isCaptionEnabled\":false,\"jah_call_time\":null,\"isToPublicPool\":false,\"lip_model\":\"\",\"hasRefundCoin\":false,\"video_cover\":\"https://prod-tos.avatar2everyone.com/adam2eve/stable/custom_avatar_cover/cdfd5403-e361-47c1-b1f9-4bf2093e5ba7.jpeg\",\"host\":\"video.a2e.ai\",\"isApi\":true,\"copy_retry_count\":0,\"_id\":\"68b421ef279d69003c253eda\",\"user_id\":\"68b2daf50c05b8003b960b6d\",\"anchor_id\":\"68b3043e246274004268a84e\",\"web_dist_bg_width\":-2,\"web_dist_bg_height\":-2,\"web_dist_bg_x\":0,\"web_dist_bg_y\":0,\"version\":2,\"dailyIndex\":1,\"createdAt\":\"2025-08-31T10:20:31.137Z\",\"updatedAt\":\"2025-08-31T10:20:31.137Z\"},\"trace_id\":\"0065ba45-d522-455d-b993-d506e40011a5\"}\n"
     ]
    }
   ],
   "source": [
    "import http.client\n",
    "import json\n",
    "\n",
    "conn = http.client.HTTPSConnection(\"video.a2e.ai\")\n",
    "payload = json.dumps({\n",
    "   \"title\": \"Second Emirate Guy Greeting Video\",\n",
    "   \"anchor_id\": anchor_id,\n",
    "   \"anchor_type\": 1,\n",
    "   \"audioSrc\": audio_src,\n",
    "#    \"msg\": script,\n",
    "   \"resolution\": 1080,\n",
    "   \"web_bg_width\": 853,\n",
    "   \"web_bg_height\": 480,\n",
    "   \"web_people_width\": 270,\n",
    "   \"web_people_height\": 480,\n",
    "   \"web_people_x\": 292,\n",
    "   \"web_people_y\": 0,\n",
    "   \"isSkipRs\": True,\n",
    "   \"isCaptionEnabled\": False,\n",
    "\n",
    "})\n",
    "headers = {\n",
    "    \"Authorization\": f\"Bearer {A2E_API_TOKEN}\",\n",
    "    \"Content-Type\": \"application/json\"\n",
    "}\n",
    "conn.request(\"POST\", \"/api/v1/video/generate\", payload, headers)\n",
    "res = conn.getresponse()\n",
    "data = res.read()\n",
    "print(data.decode(\"utf-8\"))"
   ]
  },
  {
   "cell_type": "code",
   "execution_count": 46,
   "id": "8ae5017b",
   "metadata": {},
   "outputs": [
    {
     "name": "stdout",
     "output_type": "stream",
     "text": [
      "{'code': 0,\n",
      " 'data': {'_id': '68b421ef279d69003c253eda',\n",
      "          'algo_result': '',\n",
      "          'anchor_background_color': '',\n",
      "          'anchor_background_img': '',\n",
      "          'anchor_id': '68b3043e246274004268a84e',\n",
      "          'anchor_type': '1',\n",
      "          'audioLen': 7,\n",
      "          'audioSrc': 'https://1day-tos.a2e.com.cn/tts3party_cache/stable/el/Brian/speed/a9a730f81d8281644d6a183a949fa7a0.wav',\n",
      "          'color': '',\n",
      "          'copy_retry_count': 0,\n",
      "          'createdAt': '2025-08-31T10:20:31.137Z',\n",
      "          'custom_voice': '',\n",
      "          'dailyIndex': 1,\n",
      "          'deletedByAccount': False,\n",
      "          'end_success_date': None,\n",
      "          'error': '',\n",
      "          'error_code': '',\n",
      "          'hasRefundCoin': False,\n",
      "          'host': 'video.a2e.ai',\n",
      "          'isAllowReverse': True,\n",
      "          'isApi': True,\n",
      "          'isCaptionEnabled': False,\n",
      "          'isDel': False,\n",
      "          'isSkipGp': True,\n",
      "          'isSkipRs': True,\n",
      "          'isToPublicPool': False,\n",
      "          'jah_call_time': None,\n",
      "          'lip_model': '',\n",
      "          'msg': '',\n",
      "          'priority': 3,\n",
      "          'process': 0,\n",
      "          'resolution': '1080',\n",
      "          'restart_date': None,\n",
      "          'result': '',\n",
      "          'result_cover': '',\n",
      "          'retry': 0,\n",
      "          'status': 'init',\n",
      "          'title': 'Second Emirate Guy Greeting Video',\n",
      "          'updatedAt': '2025-08-31T10:20:31.137Z',\n",
      "          'user_id': '68b2daf50c05b8003b960b6d',\n",
      "          'version': 2,\n",
      "          'video_cover': 'https://prod-tos.avatar2everyone.com/adam2eve/stable/custom_avatar_cover/cdfd5403-e361-47c1-b1f9-4bf2093e5ba7.jpeg',\n",
      "          'voice_type': '0',\n",
      "          'web_bg_height': 1080,\n",
      "          'web_bg_width': 1920,\n",
      "          'web_dist_bg_height': -2,\n",
      "          'web_dist_bg_width': -2,\n",
      "          'web_dist_bg_x': 0,\n",
      "          'web_dist_bg_y': 0,\n",
      "          'web_people_height': 1080,\n",
      "          'web_people_max_height': None,\n",
      "          'web_people_max_width': None,\n",
      "          'web_people_width': 608,\n",
      "          'web_people_x': 657,\n",
      "          'web_people_y': 0,\n",
      "          'wl_model': ''},\n",
      " 'trace_id': '0065ba45-d522-455d-b993-d506e40011a5'}\n"
     ]
    }
   ],
   "source": [
    "from pprint import pprint\n",
    "\n",
    "pprint(json.loads(data.decode(\"utf-8\")))"
   ]
  },
  {
   "cell_type": "code",
   "execution_count": 48,
   "id": "fcc17f44",
   "metadata": {},
   "outputs": [],
   "source": [
    "video_task_id = json.loads(data.decode(\"utf-8\"))['data']['_id']"
   ]
  },
  {
   "cell_type": "code",
   "execution_count": 50,
   "id": "cd0142b3",
   "metadata": {},
   "outputs": [
    {
     "name": "stdout",
     "output_type": "stream",
     "text": [
      "('{\"code\":0,\"data\":[{\"_id\":\"68b421ef279d69003c253eda\",\"title\":\"Second Emirate '\n",
      " 'Guy Greeting '\n",
      " 'Video\",\"msg\":\"\",\"result\":\"https://30days-tos.avatar2everyone.com/adam2eve/stable/users/68b2daf50c05b8003b960b6d/video_result/68b421ef279d69003c253eda/Second%20Emirate%20Guy%20Greeting%20Video.mp4\",\"process\":100,\"status\":\"success\",\"anchor_type\":\"1\",\"end_success_date\":\"2025-08-31T10:22:11.876Z\",\"web_bg_width\":1920,\"web_bg_height\":1080,\"color\":\"\",\"result_cover\":\"\",\"video_cover\":\"https://prod-tos.avatar2everyone.com/adam2eve/stable/custom_avatar_cover/cdfd5403-e361-47c1-b1f9-4bf2093e5ba7.jpeg\",\"anchor_id\":\"68b3043e246274004268a84e\",\"createdAt\":\"2025-08-31T10:20:31.137Z\",\"diff_s\":199,\"current_date\":\"2025-08-31 '\n",
      " '18:23:50\"}],\"trace_id\":\"4cedcad7-4e12-4f04-91a6-106ff1254224\"}')\n"
     ]
    }
   ],
   "source": [
    "import http.client\n",
    "import json\n",
    "\n",
    "conn = http.client.HTTPSConnection(\"video.a2e.ai\")\n",
    "payload = json.dumps({\n",
    "   \"_id\": video_task_id\n",
    "})\n",
    "headers = {\n",
    "    \"Authorization\": f\"Bearer {A2E_API_TOKEN}\",\n",
    "    \"Content-Type\": \"application/json\"\n",
    "}\n",
    "conn.request(\"POST\", \"/api/v1/video/awsResult\", payload, headers)\n",
    "res = conn.getresponse()\n",
    "data = res.read()\n",
    "pprint(data.decode(\"utf-8\"))"
   ]
  }
 ],
 "metadata": {
  "kernelspec": {
   "display_name": "base",
   "language": "python",
   "name": "python3"
  },
  "language_info": {
   "codemirror_mode": {
    "name": "ipython",
    "version": 3
   },
   "file_extension": ".py",
   "mimetype": "text/x-python",
   "name": "python",
   "nbconvert_exporter": "python",
   "pygments_lexer": "ipython3",
   "version": "3.12.4"
  }
 },
 "nbformat": 4,
 "nbformat_minor": 5
}
